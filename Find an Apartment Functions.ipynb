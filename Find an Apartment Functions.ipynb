{
 "cells": [
  {
   "cell_type": "code",
   "execution_count": 14,
   "id": "0f12d453",
   "metadata": {},
   "outputs": [
    {
     "name": "stdout",
     "output_type": "stream",
     "text": [
      "Welcome to GC Property Management! Looking up Listings in \n",
      "            Baltimore for 2 bedroom apartments that allow pets, all within a \n",
      "            budget of $1000 per month\n",
      "\n",
      "Welcome to GC Property Management! Looking up Listings in \n",
      "            Charlotte for 1 bedroom apartments, all within a budget of $950 \n",
      "            per month\n",
      "\n"
     ]
    }
   ],
   "source": [
    "\"\"\"Write a function named apt_search1. It takes a city parameter (string), a max_rent\n",
    "parameter (int), a min_beds parameter (int), and a pets_allowed parameter (boolean). \n",
    "It simply returns a string similar to one of these examples:\"\"\"\n",
    "\n",
    "def apt_search1(city, max_rent, min_beds, pets_allowed):\n",
    "        if pets_allowed:\n",
    "            return f'''Welcome to GC Property Management! Looking up Listings in \n",
    "            {city} for {min_beds} bedroom apartments that allow pets, all within a \n",
    "            budget of ${max_rent} per month\\n'''\n",
    "        else:\n",
    "            return f'''Welcome to GC Property Management! Looking up Listings in \n",
    "            {city} for {min_beds} bedroom apartments, all within a budget of ${max_rent} \n",
    "            per month\\n'''\n",
    "            \n",
    "        \n",
    "print(apt_search1(\"Baltimore\", 1000, 2, True))\n",
    "print(apt_search1(\"Charlotte\", 950, 1, False))"
   ]
  },
  {
   "cell_type": "code",
   "execution_count": 21,
   "id": "13daea41",
   "metadata": {},
   "outputs": [
    {
     "name": "stdout",
     "output_type": "stream",
     "text": [
      "130\n",
      "16\n",
      "-hello\n",
      "3.0\n"
     ]
    }
   ],
   "source": [
    "\n",
    "#lambda functions\n",
    "\n",
    "plus_one_hundred = lambda num: num + 100\n",
    "\n",
    "square_num = lambda num: num*num\n",
    "\n",
    "concatenate = lambda str: \"-\"+str\n",
    "\n",
    "divide_by_three = lambda num: num/3\n",
    "\n",
    "\n",
    "print(plus_one_hundred(30))\n",
    "print(square_num(4))\n",
    "print(concatenate(\"hello\"))\n",
    "print(divide_by_three(9))"
   ]
  },
  {
   "cell_type": "code",
   "execution_count": 15,
   "id": "3a0356ea",
   "metadata": {},
   "outputs": [
    {
     "name": "stdout",
     "output_type": "stream",
     "text": [
      "Welcome to GC Property Management! Looking up Listings in \n",
      "        Detriot for 2 bedroom apartments, all within a budget of $900 \n",
      "        per month\n",
      "\n",
      "Welcome to GC Property Management! Looking up Listings in \n",
      "        Boston for 1 bedroom apartments, all within a budget of $1200 \n",
      "        per month\n",
      "\n",
      "Welcome to GC Property Management! Looking up Listings in \n",
      "        New York City for 2 bedroom apartments that allow pets, all within a \n",
      "        budget of $1500 per month\n",
      "\n"
     ]
    }
   ],
   "source": [
    "def apt_search2(city, max_rent, min_beds = 2, pets_allowed = False):\n",
    "    if pets_allowed:\n",
    "        return f'''Welcome to GC Property Management! Looking up Listings in \n",
    "        {city} for {min_beds} bedroom apartments that allow pets, all within a \n",
    "        budget of ${max_rent} per month\\n'''\n",
    "    else:\n",
    "        return f'''Welcome to GC Property Management! Looking up Listings in \n",
    "        {city} for {min_beds} bedroom apartments, all within a budget of ${max_rent} \n",
    "        per month\\n'''\n",
    "        \n",
    "print(apt_search2(\"Detriot\",900))\n",
    "print(apt_search2(\"Boston\", 1200, 1))\n",
    "print(apt_search2(\"New York City\",1500, pets_allowed = True))"
   ]
  },
  {
   "cell_type": "code",
   "execution_count": null,
   "id": "b01b6a70",
   "metadata": {},
   "outputs": [],
   "source": []
  }
 ],
 "metadata": {
  "kernelspec": {
   "display_name": "Python 3 (ipykernel)",
   "language": "python",
   "name": "python3"
  },
  "language_info": {
   "codemirror_mode": {
    "name": "ipython",
    "version": 3
   },
   "file_extension": ".py",
   "mimetype": "text/x-python",
   "name": "python",
   "nbconvert_exporter": "python",
   "pygments_lexer": "ipython3",
   "version": "3.11.7"
  }
 },
 "nbformat": 4,
 "nbformat_minor": 5
}
